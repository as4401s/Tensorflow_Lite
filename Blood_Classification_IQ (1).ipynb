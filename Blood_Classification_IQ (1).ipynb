{
 "cells": [
  {
   "cell_type": "code",
   "execution_count": 1,
   "metadata": {},
   "outputs": [],
   "source": [
    "import tensorflow as tf\n",
    "from tensorflow.keras.layers import Input,Dense,GlobalAveragePooling2D\n",
    "from tensorflow.keras.layers import Conv2D,MaxPooling2D,Dropout\n",
    "from tensorflow.keras.models import Model\n",
    "from tensorflow.keras.applications import Xception,MobileNetV2,NASNetMobile\n",
    "from tensorflow.keras.preprocessing.image import ImageDataGenerator\n",
    "from tensorflow.keras.applications.mobilenet_v2 import preprocess_input\n",
    "\n",
    "import numpy as np\n",
    "import os\n",
    "import seaborn as sns\n",
    "import pandas as pd\n",
    "import cv2 as cv\n",
    "import matplotlib.pyplot as plt\n",
    "import SimpleITK as sitk\n",
    "import pathlib\n",
    "\n",
    "from sklearn.model_selection import train_test_split\n",
    "from sklearn.metrics import confusion_matrix\n",
    "from mlxtend.plotting import plot_confusion_matrix"
   ]
  },
  {
   "cell_type": "code",
   "execution_count": 2,
   "metadata": {},
   "outputs": [
    {
     "data": {
      "text/html": [
       "<div>\n",
       "<style scoped>\n",
       "    .dataframe tbody tr th:only-of-type {\n",
       "        vertical-align: middle;\n",
       "    }\n",
       "\n",
       "    .dataframe tbody tr th {\n",
       "        vertical-align: top;\n",
       "    }\n",
       "\n",
       "    .dataframe thead th {\n",
       "        text-align: right;\n",
       "    }\n",
       "</style>\n",
       "<table border=\"1\" class=\"dataframe\">\n",
       "  <thead>\n",
       "    <tr style=\"text-align: right;\">\n",
       "      <th></th>\n",
       "      <th>Image ID</th>\n",
       "      <th>Class</th>\n",
       "      <th>Score(%)</th>\n",
       "    </tr>\n",
       "  </thead>\n",
       "  <tbody>\n",
       "    <tr>\n",
       "      <th>0</th>\n",
       "      <td>100109202001_Blue_Lane [1]_RackIndex[1]_Date_0...</td>\n",
       "      <td>Blue</td>\n",
       "      <td>100.0000</td>\n",
       "    </tr>\n",
       "    <tr>\n",
       "      <th>1</th>\n",
       "      <td>100109202001_Blue_Lane [5]_RackIndex[15]_Date_...</td>\n",
       "      <td>Blue</td>\n",
       "      <td>100.0000</td>\n",
       "    </tr>\n",
       "    <tr>\n",
       "      <th>2</th>\n",
       "      <td>100109202001_White_Lane [1]_RackIndex[1]_Date_...</td>\n",
       "      <td>White</td>\n",
       "      <td>99.9997</td>\n",
       "    </tr>\n",
       "    <tr>\n",
       "      <th>3</th>\n",
       "      <td>100109202001_White_Lane [5]_RackIndex[15]_Date...</td>\n",
       "      <td>White</td>\n",
       "      <td>99.9997</td>\n",
       "    </tr>\n",
       "    <tr>\n",
       "      <th>4</th>\n",
       "      <td>100109202002_Blue_Lane [1]_RackIndex[2]_Date_0...</td>\n",
       "      <td>Blue</td>\n",
       "      <td>99.9999</td>\n",
       "    </tr>\n",
       "    <tr>\n",
       "      <th>5</th>\n",
       "      <td>100109202002_Blue_Lane [5]_RackIndex[14]_Date_...</td>\n",
       "      <td>Blue</td>\n",
       "      <td>100.0000</td>\n",
       "    </tr>\n",
       "    <tr>\n",
       "      <th>6</th>\n",
       "      <td>100109202002_White_Lane [1]_RackIndex[2]_Date_...</td>\n",
       "      <td>White</td>\n",
       "      <td>99.9998</td>\n",
       "    </tr>\n",
       "    <tr>\n",
       "      <th>7</th>\n",
       "      <td>100109202002_White_Lane [5]_RackIndex[14]_Date...</td>\n",
       "      <td>White</td>\n",
       "      <td>99.9997</td>\n",
       "    </tr>\n",
       "    <tr>\n",
       "      <th>8</th>\n",
       "      <td>100109202003_Blue_Lane [1]_RackIndex[3]_Date_0...</td>\n",
       "      <td>Blue</td>\n",
       "      <td>100.0000</td>\n",
       "    </tr>\n",
       "    <tr>\n",
       "      <th>9</th>\n",
       "      <td>100109202003_Blue_Lane [5]_RackIndex[11]_Date_...</td>\n",
       "      <td>Blue</td>\n",
       "      <td>100.0000</td>\n",
       "    </tr>\n",
       "  </tbody>\n",
       "</table>\n",
       "</div>"
      ],
      "text/plain": [
       "                                            Image ID  Class  Score(%)\n",
       "0  100109202001_Blue_Lane [1]_RackIndex[1]_Date_0...   Blue  100.0000\n",
       "1  100109202001_Blue_Lane [5]_RackIndex[15]_Date_...   Blue  100.0000\n",
       "2  100109202001_White_Lane [1]_RackIndex[1]_Date_...  White   99.9997\n",
       "3  100109202001_White_Lane [5]_RackIndex[15]_Date...  White   99.9997\n",
       "4  100109202002_Blue_Lane [1]_RackIndex[2]_Date_0...   Blue   99.9999\n",
       "5  100109202002_Blue_Lane [5]_RackIndex[14]_Date_...   Blue  100.0000\n",
       "6  100109202002_White_Lane [1]_RackIndex[2]_Date_...  White   99.9998\n",
       "7  100109202002_White_Lane [5]_RackIndex[14]_Date...  White   99.9997\n",
       "8  100109202003_Blue_Lane [1]_RackIndex[3]_Date_0...   Blue  100.0000\n",
       "9  100109202003_Blue_Lane [5]_RackIndex[11]_Date_...   Blue  100.0000"
      ]
     },
     "execution_count": 2,
     "metadata": {},
     "output_type": "execute_result"
    }
   ],
   "source": [
    "df = pd.read_csv('D:/Blood_1/Classify_Results.csv')\n",
    "df.head(10)"
   ]
  },
  {
   "cell_type": "code",
   "execution_count": 3,
   "metadata": {},
   "outputs": [
    {
     "name": "stdout",
     "output_type": "stream",
     "text": [
      "White    473\n",
      "Blue     467\n",
      "Name: Class, dtype: int64\n"
     ]
    },
    {
     "data": {
      "text/plain": [
       "<AxesSubplot:xlabel='Class', ylabel='count'>"
      ]
     },
     "execution_count": 3,
     "metadata": {},
     "output_type": "execute_result"
    },
    {
     "data": {
      "image/png": "[encoded data removed]",
      "text/plain": [
       "<Figure size 432x288 with 1 Axes>"
      ]
     },
     "metadata": {
      "needs_background": "light"
     },
     "output_type": "display_data"
    }
   ],
   "source": [
    "unique_count = df['Class'].value_counts()\n",
    "\n",
    "print( unique_count)\n",
    "\n",
    "sns.countplot(x = 'Class', data = df)"
   ]
  },
  {
   "cell_type": "code",
   "execution_count": 4,
   "metadata": {},
   "outputs": [
    {
     "data": {
      "text/html": [
       "<div>\n",
       "<style scoped>\n",
       "    .dataframe tbody tr th:only-of-type {\n",
       "        vertical-align: middle;\n",
       "    }\n",
       "\n",
       "    .dataframe tbody tr th {\n",
       "        vertical-align: top;\n",
       "    }\n",
       "\n",
       "    .dataframe thead th {\n",
       "        text-align: right;\n",
       "    }\n",
       "</style>\n",
       "<table border=\"1\" class=\"dataframe\">\n",
       "  <thead>\n",
       "    <tr style=\"text-align: right;\">\n",
       "      <th></th>\n",
       "      <th>Image ID</th>\n",
       "      <th>Class</th>\n",
       "      <th>Score(%)</th>\n",
       "    </tr>\n",
       "  </thead>\n",
       "  <tbody>\n",
       "    <tr>\n",
       "      <th>0</th>\n",
       "      <td>100109202001_Blue_Lane [1]_RackIndex[1]_Date_0...</td>\n",
       "      <td>0</td>\n",
       "      <td>100.0000</td>\n",
       "    </tr>\n",
       "    <tr>\n",
       "      <th>1</th>\n",
       "      <td>100109202001_Blue_Lane [5]_RackIndex[15]_Date_...</td>\n",
       "      <td>0</td>\n",
       "      <td>100.0000</td>\n",
       "    </tr>\n",
       "    <tr>\n",
       "      <th>2</th>\n",
       "      <td>100109202001_White_Lane [1]_RackIndex[1]_Date_...</td>\n",
       "      <td>1</td>\n",
       "      <td>99.9997</td>\n",
       "    </tr>\n",
       "    <tr>\n",
       "      <th>3</th>\n",
       "      <td>100109202001_White_Lane [5]_RackIndex[15]_Date...</td>\n",
       "      <td>1</td>\n",
       "      <td>99.9997</td>\n",
       "    </tr>\n",
       "    <tr>\n",
       "      <th>4</th>\n",
       "      <td>100109202002_Blue_Lane [1]_RackIndex[2]_Date_0...</td>\n",
       "      <td>0</td>\n",
       "      <td>99.9999</td>\n",
       "    </tr>\n",
       "  </tbody>\n",
       "</table>\n",
       "</div>"
      ],
      "text/plain": [
       "                                            Image ID  Class  Score(%)\n",
       "0  100109202001_Blue_Lane [1]_RackIndex[1]_Date_0...      0  100.0000\n",
       "1  100109202001_Blue_Lane [5]_RackIndex[15]_Date_...      0  100.0000\n",
       "2  100109202001_White_Lane [1]_RackIndex[1]_Date_...      1   99.9997\n",
       "3  100109202001_White_Lane [5]_RackIndex[15]_Date...      1   99.9997\n",
       "4  100109202002_Blue_Lane [1]_RackIndex[2]_Date_0...      0   99.9999"
      ]
     },
     "execution_count": 4,
     "metadata": {},
     "output_type": "execute_result"
    }
   ],
   "source": [
    "df['Class']=df.Class.map({'Blue':0,'White':1})\n",
    "df.head()"
   ]
  },
  {
   "cell_type": "code",
   "execution_count": 5,
   "metadata": {},
   "outputs": [],
   "source": [
    "path = 'D:/Blood_1/Classify_Images/'\n",
    "image_size = 224\n",
    "\n",
    "X , y = [], []\n",
    "\n",
    "for i,item in df.iterrows():\n",
    "\n",
    "    image = sitk.ReadImage(path + item[0] + '.png')\n",
    "    image = sitk.GetArrayFromImage(image)\n",
    "    image = preprocess_input(image)\n",
    "    image = cv.resize(image,(image_size,image_size))\n",
    "    X.append(image)\n",
    "    y.append(item[1])\n",
    "    \n",
    "X = np.array(X)\n",
    "y = np.array(y)\n",
    "y = np.expand_dims(y,axis=1)"
   ]
  },
  {
   "cell_type": "code",
   "execution_count": 6,
   "metadata": {},
   "outputs": [
    {
     "name": "stdout",
     "output_type": "stream",
     "text": [
      "(940, 224, 224, 3)\n",
      "(940, 1)\n"
     ]
    }
   ],
   "source": [
    "print(X.shape)\n",
    "print(y.shape)"
   ]
  },
  {
   "cell_type": "code",
   "execution_count": 7,
   "metadata": {},
   "outputs": [
    {
     "name": "stderr",
     "output_type": "stream",
     "text": [
      "Clipping input data to the valid range for imshow with RGB data ([0..1] for floats or [0..255] for integers).\n"
     ]
    },
    {
     "name": "stdout",
     "output_type": "stream",
     "text": [
      "[0]\n"
     ]
    },
    {
     "data": {
      "image/png": "[encoded data removed]",
      "text/plain": [
       "<Figure size 432x288 with 1 Axes>"
      ]
     },
     "metadata": {
      "needs_background": "light"
     },
     "output_type": "display_data"
    }
   ],
   "source": [
    "plt.imshow(X[5])\n",
    "plt.show\n",
    "print(y[5])"
   ]
  },
  {
   "cell_type": "code",
   "execution_count": 8,
   "metadata": {},
   "outputs": [
    {
     "name": "stdout",
     "output_type": "stream",
     "text": [
      "(752, 224, 224, 3)\n",
      "(188, 224, 224, 3)\n",
      "(752, 1)\n",
      "(188, 1)\n"
     ]
    }
   ],
   "source": [
    "X_train,X_test,y_train,y_test = train_test_split(X,y,stratify=y,test_size=0.2)\n",
    "\n",
    "print(X_train.shape)\n",
    "print(X_test.shape)\n",
    "print(y_train.shape)\n",
    "print(y_test.shape)"
   ]
  },
  {
   "cell_type": "code",
   "execution_count": 9,
   "metadata": {},
   "outputs": [
    {
     "data": {
      "text/plain": [
       "(752, 1)"
      ]
     },
     "execution_count": 9,
     "metadata": {},
     "output_type": "execute_result"
    }
   ],
   "source": [
    "y_train.shape"
   ]
  },
  {
   "cell_type": "code",
   "execution_count": 10,
   "metadata": {},
   "outputs": [],
   "source": [
    "input_shape=[224,224]\n",
    "\n",
    "base_model = MobileNetV2 (input_shape = input_shape+[3], weights = 'imagenet', include_top = False)\n",
    "\n",
    "x = base_model.output\n",
    "\n",
    "x = GlobalAveragePooling2D()(x)\n",
    "\n",
    "x = Dense(1024,activation='relu')(x)\n",
    "x = Dropout(0.2)(x)\n",
    "\n",
    "# and a logistic layer\n",
    "out = Dense(1, activation=\"sigmoid\")(x)\n",
    "\n",
    "model = Model(inputs=base_model.input, outputs=out)"
   ]
  },
  {
   "cell_type": "code",
   "execution_count": 11,
   "metadata": {},
   "outputs": [],
   "source": [
    "def scheduler(epoch):\n",
    "    if epoch < 30:\n",
    "        return 0.0001\n",
    "    else:\n",
    "        return 0.0001 * tf.math.exp(0.1 * (10 - epoch))\n",
    "\n",
    "lr_schedule = tf.keras.callbacks.LearningRateScheduler(scheduler)\n",
    "\n",
    "stopping = tf.keras.callbacks.EarlyStopping(monitor='val_loss', patience=6)"
   ]
  },
  {
   "cell_type": "code",
   "execution_count": 12,
   "metadata": {},
   "outputs": [
    {
     "name": "stdout",
     "output_type": "stream",
     "text": [
      "Model: \"functional_1\"\n",
      "__________________________________________________________________________________________________\n",
      "Layer (type)                    Output Shape         Param #     Connected to                     \n",
      "==================================================================================================\n",
      "input_1 (InputLayer)            [(None, 224, 224, 3) 0                                            \n",
      "__________________________________________________________________________________________________\n",
      "Conv1_pad (ZeroPadding2D)       (None, 225, 225, 3)  0           input_1[0][0]                    \n",
      "__________________________________________________________________________________________________\n",
      "Conv1 (Conv2D)                  (None, 112, 112, 32) 864         Conv1_pad[0][0]                  \n",
      "__________________________________________________________________________________________________\n",
      "bn_Conv1 (BatchNormalization)   (None, 112, 112, 32) 128         Conv1[0][0]                      \n",
      "__________________________________________________________________________________________________\n",
      "Conv1_relu (ReLU)               (None, 112, 112, 32) 0           bn_Conv1[0][0]                   \n",
      "__________________________________________________________________________________________________\n",
      "expanded_conv_depthwise (Depthw (None, 112, 112, 32) 288         Conv1_relu[0][0]                 \n",
      "__________________________________________________________________________________________________\n",
      "expanded_conv_depthwise_BN (Bat (None, 112, 112, 32) 128         expanded_conv_depthwise[0][0]    \n",
      "__________________________________________________________________________________________________\n",
      "expanded_conv_depthwise_relu (R (None, 112, 112, 32) 0           expanded_conv_depthwise_BN[0][0] \n",
      "__________________________________________________________________________________________________\n",
      "expanded_conv_project (Conv2D)  (None, 112, 112, 16) 512         expanded_conv_depthwise_relu[0][0\n",
      "__________________________________________________________________________________________________\n",
      "expanded_conv_project_BN (Batch (None, 112, 112, 16) 64          expanded_conv_project[0][0]      \n",
      "__________________________________________________________________________________________________\n",
      "block_1_expand (Conv2D)         (None, 112, 112, 96) 1536        expanded_conv_project_BN[0][0]   \n",
      "__________________________________________________________________________________________________\n",
      "block_1_expand_BN (BatchNormali (None, 112, 112, 96) 384         block_1_expand[0][0]             \n",
      "__________________________________________________________________________________________________\n",
      "block_1_expand_relu (ReLU)      (None, 112, 112, 96) 0           block_1_expand_BN[0][0]          \n",
      "__________________________________________________________________________________________________\n",
      "block_1_pad (ZeroPadding2D)     (None, 113, 113, 96) 0           block_1_expand_relu[0][0]        \n",
      "__________________________________________________________________________________________________\n",
      "block_1_depthwise (DepthwiseCon (None, 56, 56, 96)   864         block_1_pad[0][0]                \n",
      "__________________________________________________________________________________________________\n",
      "block_1_depthwise_BN (BatchNorm (None, 56, 56, 96)   384         block_1_depthwise[0][0]          \n",
      "__________________________________________________________________________________________________\n",
      "block_1_depthwise_relu (ReLU)   (None, 56, 56, 96)   0           block_1_depthwise_BN[0][0]       \n",
      "__________________________________________________________________________________________________\n",
      "block_1_project (Conv2D)        (None, 56, 56, 24)   2304        block_1_depthwise_relu[0][0]     \n",
      "__________________________________________________________________________________________________\n",
      "block_1_project_BN (BatchNormal (None, 56, 56, 24)   96          block_1_project[0][0]            \n",
      "__________________________________________________________________________________________________\n",
      "block_2_expand (Conv2D)         (None, 56, 56, 144)  3456        block_1_project_BN[0][0]         \n",
      "__________________________________________________________________________________________________\n",
      "block_2_expand_BN (BatchNormali (None, 56, 56, 144)  576         block_2_expand[0][0]             \n",
      "__________________________________________________________________________________________________\n",
      "block_2_expand_relu (ReLU)      (None, 56, 56, 144)  0           block_2_expand_BN[0][0]          \n",
      "__________________________________________________________________________________________________\n",
      "block_2_depthwise (DepthwiseCon (None, 56, 56, 144)  1296        block_2_expand_relu[0][0]        \n",
      "__________________________________________________________________________________________________\n",
      "block_2_depthwise_BN (BatchNorm (None, 56, 56, 144)  576         block_2_depthwise[0][0]          \n",
      "__________________________________________________________________________________________________\n",
      "block_2_depthwise_relu (ReLU)   (None, 56, 56, 144)  0           block_2_depthwise_BN[0][0]       \n",
      "__________________________________________________________________________________________________\n",
      "block_2_project (Conv2D)        (None, 56, 56, 24)   3456        block_2_depthwise_relu[0][0]     \n",
      "__________________________________________________________________________________________________\n",
      "block_2_project_BN (BatchNormal (None, 56, 56, 24)   96          block_2_project[0][0]            \n",
      "__________________________________________________________________________________________________\n",
      "block_2_add (Add)               (None, 56, 56, 24)   0           block_1_project_BN[0][0]         \n",
      "                                                                 block_2_project_BN[0][0]         \n",
      "__________________________________________________________________________________________________\n",
      "block_3_expand (Conv2D)         (None, 56, 56, 144)  3456        block_2_add[0][0]                \n",
      "__________________________________________________________________________________________________\n",
      "block_3_expand_BN (BatchNormali (None, 56, 56, 144)  576         block_3_expand[0][0]             \n",
      "__________________________________________________________________________________________________\n",
      "block_3_expand_relu (ReLU)      (None, 56, 56, 144)  0           block_3_expand_BN[0][0]          \n",
      "__________________________________________________________________________________________________\n",
      "block_3_pad (ZeroPadding2D)     (None, 57, 57, 144)  0           block_3_expand_relu[0][0]        \n",
      "__________________________________________________________________________________________________\n",
      "block_3_depthwise (DepthwiseCon (None, 28, 28, 144)  1296        block_3_pad[0][0]                \n",
      "__________________________________________________________________________________________________\n",
      "block_3_depthwise_BN (BatchNorm (None, 28, 28, 144)  576         block_3_depthwise[0][0]          \n",
      "__________________________________________________________________________________________________\n",
      "block_3_depthwise_relu (ReLU)   (None, 28, 28, 144)  0           block_3_depthwise_BN[0][0]       \n",
      "__________________________________________________________________________________________________\n",
      "block_3_project (Conv2D)        (None, 28, 28, 32)   4608        block_3_depthwise_relu[0][0]     \n",
      "__________________________________________________________________________________________________\n",
      "block_3_project_BN (BatchNormal (None, 28, 28, 32)   128         block_3_project[0][0]            \n",
      "__________________________________________________________________________________________________\n",
      "block_4_expand (Conv2D)         (None, 28, 28, 192)  6144        block_3_project_BN[0][0]         \n",
      "__________________________________________________________________________________________________\n",
      "block_4_expand_BN (BatchNormali (None, 28, 28, 192)  768         block_4_expand[0][0]             \n",
      "__________________________________________________________________________________________________\n",
      "block_4_expand_relu (ReLU)      (None, 28, 28, 192)  0           block_4_expand_BN[0][0]          \n",
      "__________________________________________________________________________________________________\n",
      "block_4_depthwise (DepthwiseCon (None, 28, 28, 192)  1728        block_4_expand_relu[0][0]        \n",
      "__________________________________________________________________________________________________\n",
      "block_4_depthwise_BN (BatchNorm (None, 28, 28, 192)  768         block_4_depthwise[0][0]          \n",
      "__________________________________________________________________________________________________\n",
      "block_4_depthwise_relu (ReLU)   (None, 28, 28, 192)  0           block_4_depthwise_BN[0][0]       \n",
      "__________________________________________________________________________________________________\n",
      "block_4_project (Conv2D)        (None, 28, 28, 32)   6144        block_4_depthwise_relu[0][0]     \n",
      "__________________________________________________________________________________________________\n",
      "block_4_project_BN (BatchNormal (None, 28, 28, 32)   128         block_4_project[0][0]            \n",
      "__________________________________________________________________________________________________\n",
      "block_4_add (Add)               (None, 28, 28, 32)   0           block_3_project_BN[0][0]         \n",
      "                                                                 block_4_project_BN[0][0]         \n",
      "__________________________________________________________________________________________________\n",
      "block_5_expand (Conv2D)         (None, 28, 28, 192)  6144        block_4_add[0][0]                \n",
      "__________________________________________________________________________________________________\n",
      "block_5_expand_BN (BatchNormali (None, 28, 28, 192)  768         block_5_expand[0][0]             \n",
      "__________________________________________________________________________________________________\n",
      "block_5_expand_relu (ReLU)      (None, 28, 28, 192)  0           block_5_expand_BN[0][0]          \n",
      "__________________________________________________________________________________________________\n",
      "block_5_depthwise (DepthwiseCon (None, 28, 28, 192)  1728        block_5_expand_relu[0][0]        \n",
      "__________________________________________________________________________________________________\n",
      "block_5_depthwise_BN (BatchNorm (None, 28, 28, 192)  768         block_5_depthwise[0][0]          \n",
      "__________________________________________________________________________________________________\n",
      "block_5_depthwise_relu (ReLU)   (None, 28, 28, 192)  0           block_5_depthwise_BN[0][0]       \n",
      "__________________________________________________________________________________________________\n",
      "block_5_project (Conv2D)        (None, 28, 28, 32)   6144        block_5_depthwise_relu[0][0]     \n",
      "__________________________________________________________________________________________________\n",
      "block_5_project_BN (BatchNormal (None, 28, 28, 32)   128         block_5_project[0][0]            \n",
      "__________________________________________________________________________________________________\n",
      "block_5_add (Add)               (None, 28, 28, 32)   0           block_4_add[0][0]                \n",
      "                                                                 block_5_project_BN[0][0]         \n",
      "__________________________________________________________________________________________________\n",
      "block_6_expand (Conv2D)         (None, 28, 28, 192)  6144        block_5_add[0][0]                \n",
      "__________________________________________________________________________________________________\n",
      "block_6_expand_BN (BatchNormali (None, 28, 28, 192)  768         block_6_expand[0][0]             \n",
      "__________________________________________________________________________________________________\n",
      "block_6_expand_relu (ReLU)      (None, 28, 28, 192)  0           block_6_expand_BN[0][0]          \n",
      "__________________________________________________________________________________________________\n",
      "block_6_pad (ZeroPadding2D)     (None, 29, 29, 192)  0           block_6_expand_relu[0][0]        \n",
      "__________________________________________________________________________________________________\n",
      "block_6_depthwise (DepthwiseCon (None, 14, 14, 192)  1728        block_6_pad[0][0]                \n",
      "__________________________________________________________________________________________________\n",
      "block_6_depthwise_BN (BatchNorm (None, 14, 14, 192)  768         block_6_depthwise[0][0]          \n",
      "__________________________________________________________________________________________________\n",
      "block_6_depthwise_relu (ReLU)   (None, 14, 14, 192)  0           block_6_depthwise_BN[0][0]       \n",
      "__________________________________________________________________________________________________\n",
      "block_6_project (Conv2D)        (None, 14, 14, 64)   12288       block_6_depthwise_relu[0][0]     \n",
      "__________________________________________________________________________________________________\n",
      "block_6_project_BN (BatchNormal (None, 14, 14, 64)   256         block_6_project[0][0]            \n",
      "__________________________________________________________________________________________________\n",
      "block_7_expand (Conv2D)         (None, 14, 14, 384)  24576       block_6_project_BN[0][0]         \n",
      "__________________________________________________________________________________________________\n",
      "block_7_expand_BN (BatchNormali (None, 14, 14, 384)  1536        block_7_expand[0][0]             \n",
      "__________________________________________________________________________________________________\n",
      "block_7_expand_relu (ReLU)      (None, 14, 14, 384)  0           block_7_expand_BN[0][0]          \n",
      "__________________________________________________________________________________________________\n",
      "block_7_depthwise (DepthwiseCon (None, 14, 14, 384)  3456        block_7_expand_relu[0][0]        \n",
      "__________________________________________________________________________________________________\n",
      "block_7_depthwise_BN (BatchNorm (None, 14, 14, 384)  1536        block_7_depthwise[0][0]          \n",
      "__________________________________________________________________________________________________\n",
      "block_7_depthwise_relu (ReLU)   (None, 14, 14, 384)  0           block_7_depthwise_BN[0][0]       \n",
      "__________________________________________________________________________________________________\n",
      "block_7_project (Conv2D)        (None, 14, 14, 64)   24576       block_7_depthwise_relu[0][0]     \n",
      "__________________________________________________________________________________________________\n",
      "block_7_project_BN (BatchNormal (None, 14, 14, 64)   256         block_7_project[0][0]            \n",
      "__________________________________________________________________________________________________\n",
      "block_7_add (Add)               (None, 14, 14, 64)   0           block_6_project_BN[0][0]         \n",
      "                                                                 block_7_project_BN[0][0]         \n",
      "__________________________________________________________________________________________________\n",
      "block_8_expand (Conv2D)         (None, 14, 14, 384)  24576       block_7_add[0][0]                \n",
      "__________________________________________________________________________________________________\n",
      "block_8_expand_BN (BatchNormali (None, 14, 14, 384)  1536        block_8_expand[0][0]             \n",
      "__________________________________________________________________________________________________\n",
      "block_8_expand_relu (ReLU)      (None, 14, 14, 384)  0           block_8_expand_BN[0][0]          \n",
      "__________________________________________________________________________________________________\n",
      "block_8_depthwise (DepthwiseCon (None, 14, 14, 384)  3456        block_8_expand_relu[0][0]        \n",
      "__________________________________________________________________________________________________\n",
      "block_8_depthwise_BN (BatchNorm (None, 14, 14, 384)  1536        block_8_depthwise[0][0]          \n",
      "__________________________________________________________________________________________________\n",
      "block_8_depthwise_relu (ReLU)   (None, 14, 14, 384)  0           block_8_depthwise_BN[0][0]       \n",
      "__________________________________________________________________________________________________\n",
      "block_8_project (Conv2D)        (None, 14, 14, 64)   24576       block_8_depthwise_relu[0][0]     \n",
      "__________________________________________________________________________________________________\n",
      "block_8_project_BN (BatchNormal (None, 14, 14, 64)   256         block_8_project[0][0]            \n",
      "__________________________________________________________________________________________________\n",
      "block_8_add (Add)               (None, 14, 14, 64)   0           block_7_add[0][0]                \n",
      "                                                                 block_8_project_BN[0][0]         \n",
      "__________________________________________________________________________________________________\n",
      "block_9_expand (Conv2D)         (None, 14, 14, 384)  24576       block_8_add[0][0]                \n",
      "__________________________________________________________________________________________________\n",
      "block_9_expand_BN (BatchNormali (None, 14, 14, 384)  1536        block_9_expand[0][0]             \n",
      "__________________________________________________________________________________________________\n",
      "block_9_expand_relu (ReLU)      (None, 14, 14, 384)  0           block_9_expand_BN[0][0]          \n",
      "__________________________________________________________________________________________________\n",
      "block_9_depthwise (DepthwiseCon (None, 14, 14, 384)  3456        block_9_expand_relu[0][0]        \n",
      "__________________________________________________________________________________________________\n",
      "block_9_depthwise_BN (BatchNorm (None, 14, 14, 384)  1536        block_9_depthwise[0][0]          \n",
      "__________________________________________________________________________________________________\n",
      "block_9_depthwise_relu (ReLU)   (None, 14, 14, 384)  0           block_9_depthwise_BN[0][0]       \n",
      "__________________________________________________________________________________________________\n",
      "block_9_project (Conv2D)        (None, 14, 14, 64)   24576       block_9_depthwise_relu[0][0]     \n",
      "__________________________________________________________________________________________________\n",
      "block_9_project_BN (BatchNormal (None, 14, 14, 64)   256         block_9_project[0][0]            \n",
      "__________________________________________________________________________________________________\n",
      "block_9_add (Add)               (None, 14, 14, 64)   0           block_8_add[0][0]                \n",
      "                                                                 block_9_project_BN[0][0]         \n",
      "__________________________________________________________________________________________________\n",
      "block_10_expand (Conv2D)        (None, 14, 14, 384)  24576       block_9_add[0][0]                \n",
      "__________________________________________________________________________________________________\n",
      "block_10_expand_BN (BatchNormal (None, 14, 14, 384)  1536        block_10_expand[0][0]            \n",
      "__________________________________________________________________________________________________\n",
      "block_10_expand_relu (ReLU)     (None, 14, 14, 384)  0           block_10_expand_BN[0][0]         \n",
      "__________________________________________________________________________________________________\n",
      "block_10_depthwise (DepthwiseCo (None, 14, 14, 384)  3456        block_10_expand_relu[0][0]       \n",
      "__________________________________________________________________________________________________\n",
      "block_10_depthwise_BN (BatchNor (None, 14, 14, 384)  1536        block_10_depthwise[0][0]         \n",
      "__________________________________________________________________________________________________\n",
      "block_10_depthwise_relu (ReLU)  (None, 14, 14, 384)  0           block_10_depthwise_BN[0][0]      \n",
      "__________________________________________________________________________________________________\n",
      "block_10_project (Conv2D)       (None, 14, 14, 96)   36864       block_10_depthwise_relu[0][0]    \n",
      "__________________________________________________________________________________________________\n",
      "block_10_project_BN (BatchNorma (None, 14, 14, 96)   384         block_10_project[0][0]           \n",
      "__________________________________________________________________________________________________\n",
      "block_11_expand (Conv2D)        (None, 14, 14, 576)  55296       block_10_project_BN[0][0]        \n",
      "__________________________________________________________________________________________________\n",
      "block_11_expand_BN (BatchNormal (None, 14, 14, 576)  2304        block_11_expand[0][0]            \n",
      "__________________________________________________________________________________________________\n",
      "block_11_expand_relu (ReLU)     (None, 14, 14, 576)  0           block_11_expand_BN[0][0]         \n",
      "__________________________________________________________________________________________________\n",
      "block_11_depthwise (DepthwiseCo (None, 14, 14, 576)  5184        block_11_expand_relu[0][0]       \n",
      "__________________________________________________________________________________________________\n",
      "block_11_depthwise_BN (BatchNor (None, 14, 14, 576)  2304        block_11_depthwise[0][0]         \n",
      "__________________________________________________________________________________________________\n",
      "block_11_depthwise_relu (ReLU)  (None, 14, 14, 576)  0           block_11_depthwise_BN[0][0]      \n",
      "__________________________________________________________________________________________________\n",
      "block_11_project (Conv2D)       (None, 14, 14, 96)   55296       block_11_depthwise_relu[0][0]    \n",
      "__________________________________________________________________________________________________\n",
      "block_11_project_BN (BatchNorma (None, 14, 14, 96)   384         block_11_project[0][0]           \n",
      "__________________________________________________________________________________________________\n",
      "block_11_add (Add)              (None, 14, 14, 96)   0           block_10_project_BN[0][0]        \n",
      "                                                                 block_11_project_BN[0][0]        \n",
      "__________________________________________________________________________________________________\n",
      "block_12_expand (Conv2D)        (None, 14, 14, 576)  55296       block_11_add[0][0]               \n",
      "__________________________________________________________________________________________________\n",
      "block_12_expand_BN (BatchNormal (None, 14, 14, 576)  2304        block_12_expand[0][0]            \n",
      "__________________________________________________________________________________________________\n",
      "block_12_expand_relu (ReLU)     (None, 14, 14, 576)  0           block_12_expand_BN[0][0]         \n",
      "__________________________________________________________________________________________________\n",
      "block_12_depthwise (DepthwiseCo (None, 14, 14, 576)  5184        block_12_expand_relu[0][0]       \n",
      "__________________________________________________________________________________________________\n",
      "block_12_depthwise_BN (BatchNor (None, 14, 14, 576)  2304        block_12_depthwise[0][0]         \n",
      "__________________________________________________________________________________________________\n",
      "block_12_depthwise_relu (ReLU)  (None, 14, 14, 576)  0           block_12_depthwise_BN[0][0]      \n",
      "__________________________________________________________________________________________________\n",
      "block_12_project (Conv2D)       (None, 14, 14, 96)   55296       block_12_depthwise_relu[0][0]    \n",
      "__________________________________________________________________________________________________\n",
      "block_12_project_BN (BatchNorma (None, 14, 14, 96)   384         block_12_project[0][0]           \n",
      "__________________________________________________________________________________________________\n",
      "block_12_add (Add)              (None, 14, 14, 96)   0           block_11_add[0][0]               \n",
      "                                                                 block_12_project_BN[0][0]        \n",
      "__________________________________________________________________________________________________\n",
      "block_13_expand (Conv2D)        (None, 14, 14, 576)  55296       block_12_add[0][0]               \n",
      "__________________________________________________________________________________________________\n",
      "block_13_expand_BN (BatchNormal (None, 14, 14, 576)  2304        block_13_expand[0][0]            \n",
      "__________________________________________________________________________________________________\n",
      "block_13_expand_relu (ReLU)     (None, 14, 14, 576)  0           block_13_expand_BN[0][0]         \n",
      "__________________________________________________________________________________________________\n",
      "block_13_pad (ZeroPadding2D)    (None, 15, 15, 576)  0           block_13_expand_relu[0][0]       \n",
      "__________________________________________________________________________________________________\n",
      "block_13_depthwise (DepthwiseCo (None, 7, 7, 576)    5184        block_13_pad[0][0]               \n",
      "__________________________________________________________________________________________________\n",
      "block_13_depthwise_BN (BatchNor (None, 7, 7, 576)    2304        block_13_depthwise[0][0]         \n",
      "__________________________________________________________________________________________________\n",
      "block_13_depthwise_relu (ReLU)  (None, 7, 7, 576)    0           block_13_depthwise_BN[0][0]      \n",
      "__________________________________________________________________________________________________\n",
      "block_13_project (Conv2D)       (None, 7, 7, 160)    92160       block_13_depthwise_relu[0][0]    \n",
      "__________________________________________________________________________________________________\n",
      "block_13_project_BN (BatchNorma (None, 7, 7, 160)    640         block_13_project[0][0]           \n",
      "__________________________________________________________________________________________________\n",
      "block_14_expand (Conv2D)        (None, 7, 7, 960)    153600      block_13_project_BN[0][0]        \n",
      "__________________________________________________________________________________________________\n",
      "block_14_expand_BN (BatchNormal (None, 7, 7, 960)    3840        block_14_expand[0][0]            \n",
      "__________________________________________________________________________________________________\n",
      "block_14_expand_relu (ReLU)     (None, 7, 7, 960)    0           block_14_expand_BN[0][0]         \n",
      "__________________________________________________________________________________________________\n",
      "block_14_depthwise (DepthwiseCo (None, 7, 7, 960)    8640        block_14_expand_relu[0][0]       \n",
      "__________________________________________________________________________________________________\n",
      "block_14_depthwise_BN (BatchNor (None, 7, 7, 960)    3840        block_14_depthwise[0][0]         \n",
      "__________________________________________________________________________________________________\n",
      "block_14_depthwise_relu (ReLU)  (None, 7, 7, 960)    0           block_14_depthwise_BN[0][0]      \n",
      "__________________________________________________________________________________________________\n",
      "block_14_project (Conv2D)       (None, 7, 7, 160)    153600      block_14_depthwise_relu[0][0]    \n",
      "__________________________________________________________________________________________________\n",
      "block_14_project_BN (BatchNorma (None, 7, 7, 160)    640         block_14_project[0][0]           \n",
      "__________________________________________________________________________________________________\n",
      "block_14_add (Add)              (None, 7, 7, 160)    0           block_13_project_BN[0][0]        \n",
      "                                                                 block_14_project_BN[0][0]        \n",
      "__________________________________________________________________________________________________\n",
      "block_15_expand (Conv2D)        (None, 7, 7, 960)    153600      block_14_add[0][0]               \n",
      "__________________________________________________________________________________________________\n",
      "block_15_expand_BN (BatchNormal (None, 7, 7, 960)    3840        block_15_expand[0][0]            \n",
      "__________________________________________________________________________________________________\n",
      "block_15_expand_relu (ReLU)     (None, 7, 7, 960)    0           block_15_expand_BN[0][0]         \n",
      "__________________________________________________________________________________________________\n",
      "block_15_depthwise (DepthwiseCo (None, 7, 7, 960)    8640        block_15_expand_relu[0][0]       \n",
      "__________________________________________________________________________________________________\n",
      "block_15_depthwise_BN (BatchNor (None, 7, 7, 960)    3840        block_15_depthwise[0][0]         \n",
      "__________________________________________________________________________________________________\n",
      "block_15_depthwise_relu (ReLU)  (None, 7, 7, 960)    0           block_15_depthwise_BN[0][0]      \n",
      "__________________________________________________________________________________________________\n",
      "block_15_project (Conv2D)       (None, 7, 7, 160)    153600      block_15_depthwise_relu[0][0]    \n",
      "__________________________________________________________________________________________________\n",
      "block_15_project_BN (BatchNorma (None, 7, 7, 160)    640         block_15_project[0][0]           \n",
      "__________________________________________________________________________________________________\n",
      "block_15_add (Add)              (None, 7, 7, 160)    0           block_14_add[0][0]               \n",
      "                                                                 block_15_project_BN[0][0]        \n",
      "__________________________________________________________________________________________________\n",
      "block_16_expand (Conv2D)        (None, 7, 7, 960)    153600      block_15_add[0][0]               \n",
      "__________________________________________________________________________________________________\n",
      "block_16_expand_BN (BatchNormal (None, 7, 7, 960)    3840        block_16_expand[0][0]            \n",
      "__________________________________________________________________________________________________\n",
      "block_16_expand_relu (ReLU)     (None, 7, 7, 960)    0           block_16_expand_BN[0][0]         \n",
      "__________________________________________________________________________________________________\n",
      "block_16_depthwise (DepthwiseCo (None, 7, 7, 960)    8640        block_16_expand_relu[0][0]       \n",
      "__________________________________________________________________________________________________\n",
      "block_16_depthwise_BN (BatchNor (None, 7, 7, 960)    3840        block_16_depthwise[0][0]         \n",
      "__________________________________________________________________________________________________\n",
      "block_16_depthwise_relu (ReLU)  (None, 7, 7, 960)    0           block_16_depthwise_BN[0][0]      \n",
      "__________________________________________________________________________________________________\n",
      "block_16_project (Conv2D)       (None, 7, 7, 320)    307200      block_16_depthwise_relu[0][0]    \n",
      "__________________________________________________________________________________________________\n",
      "block_16_project_BN (BatchNorma (None, 7, 7, 320)    1280        block_16_project[0][0]           \n",
      "__________________________________________________________________________________________________\n",
      "Conv_1 (Conv2D)                 (None, 7, 7, 1280)   409600      block_16_project_BN[0][0]        \n",
      "__________________________________________________________________________________________________\n",
      "Conv_1_bn (BatchNormalization)  (None, 7, 7, 1280)   5120        Conv_1[0][0]                     \n",
      "__________________________________________________________________________________________________\n",
      "out_relu (ReLU)                 (None, 7, 7, 1280)   0           Conv_1_bn[0][0]                  \n",
      "__________________________________________________________________________________________________\n",
      "global_average_pooling2d (Globa (None, 1280)         0           out_relu[0][0]                   \n",
      "__________________________________________________________________________________________________\n",
      "dense (Dense)                   (None, 1024)         1311744     global_average_pooling2d[0][0]   \n",
      "__________________________________________________________________________________________________\n",
      "dropout (Dropout)               (None, 1024)         0           dense[0][0]                      \n",
      "__________________________________________________________________________________________________\n",
      "dense_1 (Dense)                 (None, 1)            1025        dropout[0][0]                    \n",
      "==================================================================================================\n",
      "Total params: 3,570,753\n",
      "Trainable params: 3,536,641\n",
      "Non-trainable params: 34,112\n",
      "__________________________________________________________________________________________________\n"
     ]
    }
   ],
   "source": [
    "model.compile(optimizer='adam', loss=\"binary_crossentropy\", metrics=[\"accuracy\"])\n",
    "model.summary()  "
   ]
  },
  {
   "cell_type": "code",
   "execution_count": 13,
   "metadata": {},
   "outputs": [
    {
     "name": "stdout",
     "output_type": "stream",
     "text": [
      "Epoch 1/50\n",
      "186/188 [============================>.] - ETA: 0s - loss: 0.1386 - accuracy: 0.9328 ETA: 2s - loss: 0.2177 - ac - ETA: 2s - loss: 0.1852 - accuracy: 0.90 - ETA:  - ETA: \n",
      "Epoch 00001: val_loss improved from inf to 0.02994, saving model to Mobilenet.h5\n",
      "188/188 [==============================] - 6s 30ms/step - loss: 0.1375 - accuracy: 0.9335 - val_loss: 0.0299 - val_accuracy: 0.9894\n",
      "Epoch 2/50\n",
      "187/188 [============================>.] - ETA: 0s - loss: 0.0367 - accuracy: 0.9878 ETA: 3s - loss: 0 - ETA: 1s - loss: 0 - ETA: 0s - loss: 0.0387 - accu - ETA: 0s - loss: 0.0361 - accuracy: 0.9880\n",
      "Epoch 00002: val_loss did not improve from 0.02994\n",
      "188/188 [==============================] - 5s 25ms/step - loss: 0.0359 - accuracy: 0.9880 - val_loss: 0.1019 - val_accuracy: 0.9628\n",
      "Epoch 3/50\n",
      "188/188 [==============================] - ETA: 0s - loss: 0.0030 - accuracy: 1.0000 ETA: 1s - loss: 0.0032 - accuracy: \n",
      "Epoch 00003: val_loss improved from 0.02994 to 0.01550, saving model to Mobilenet.h5\n",
      "188/188 [==============================] - 5s 27ms/step - loss: 0.0030 - accuracy: 1.0000 - val_loss: 0.0155 - val_accuracy: 1.0000\n",
      "Epoch 4/50\n",
      "187/188 [============================>.] - ETA: 0s - loss: 0.0010 - accuracy: 1.0000     ETA: 3s - los - ETA: 2s - loss: 0.0012 - accuracy:  - ETA: 2s - loss: - ETA: 1s - loss: 0.0 - ETA: 1s - l\n",
      "Epoch 00004: val_loss improved from 0.01550 to 0.00816, saving model to Mobilenet.h5\n",
      "188/188 [==============================] - 5s 27ms/step - loss: 0.0010 - accuracy: 1.0000 - val_loss: 0.0082 - val_accuracy: 1.0000\n",
      "Epoch 5/50\n",
      "186/188 [============================>.] - ETA: 0s - loss: 4.6021e-04 - accuracy: 1.0000 ETA: 0s - loss: 4.2\n",
      "Epoch 00005: val_loss improved from 0.00816 to 0.00251, saving model to Mobilenet.h5\n",
      "188/188 [==============================] - 5s 27ms/step - loss: 4.5546e-04 - accuracy: 1.0000 - val_loss: 0.0025 - val_accuracy: 1.0000\n",
      "Epoch 6/50\n",
      "187/188 [============================>.] - ETA: 0s - loss: 3.6155e-04 - accuracy: 1.0000 ETA: 0s - loss: 3.7057e-04 - ac\n",
      "Epoch 00006: val_loss improved from 0.00251 to 0.00167, saving model to Mobilenet.h5\n",
      "188/188 [==============================] - 5s 27ms/step - loss: 3.5965e-04 - accuracy: 1.0000 - val_loss: 0.0017 - val_accuracy: 1.0000\n",
      "Epoch 7/50\n",
      "186/188 [============================>.] - ETA: 0s - loss: 1.3970e-04 - accuracy: 1.0000 E - ETA: 1s - loss: 1.3765e - ETA: 0s - loss: 1.3839e-04 - ac\n",
      "Epoch 00007: val_loss improved from 0.00167 to 0.00077, saving model to Mobilenet.h5\n",
      "188/188 [==============================] - 5s 27ms/step - loss: 1.3877e-04 - accuracy: 1.0000 - val_loss: 7.7066e-04 - val_accuracy: 1.0000\n",
      "Epoch 8/50\n",
      "187/188 [============================>.] - ETA: 0s - loss: 1.3105e-04 - accuracy: 1.0000 E - ETA: 2s - loss: 1.0948e-04 - accuracy - ETA: 2s - loss:\n",
      "Epoch 00008: val_loss improved from 0.00077 to 0.00050, saving model to Mobilenet.h5\n",
      "188/188 [==============================] - 5s 27ms/step - loss: 1.3055e-04 - accuracy: 1.0000 - val_loss: 5.0338e-04 - val_accuracy: 1.0000\n",
      "Epoch 9/50\n",
      "186/188 [============================>.] - ETA: 0s - loss: 8.4195e-05 - accuracy: 1.0000 ETA: 3s - loss: 1.3570e-04 - ac - ETA: 3s - loss: 1.0914e-04 - accuracy:  - ETA: 2s - loss: 1.013 - ETA: 2s - loss: 9.5191e-05 - ac - ETA: 1s - loss: 9.1775e-05 - accuracy - ETA: 1s - loss: 8.713 - ETA: 0s - loss: 8.0416e-05 - ac\n",
      "Epoch 00009: val_loss improved from 0.00050 to 0.00027, saving model to Mobilenet.h5\n",
      "188/188 [==============================] - 5s 28ms/step - loss: 8.3588e-05 - accuracy: 1.0000 - val_loss: 2.7047e-04 - val_accuracy: 1.0000\n",
      "Epoch 10/50\n",
      "187/188 [============================>.] - ETA: 0s - loss: 1.0216e-04 - accuracy: 1.0000 ETA: 2s - loss: 5.0812e-05 - accuracy: 1.00 - ETA: 2s - loss: 5.0430e-05 - accuracy: 1.00 - ETA: 2s - loss:\n",
      "Epoch 00010: val_loss improved from 0.00027 to 0.00017, saving model to Mobilenet.h5\n",
      "188/188 [==============================] - 5s 27ms/step - loss: 1.0162e-04 - accuracy: 1.0000 - val_loss: 1.6927e-04 - val_accuracy: 1.0000\n",
      "Epoch 11/50\n",
      "186/188 [============================>.] - ETA: 0s - loss: 7.0655e-05 - accuracy: 1.0000 ETA: 3s - loss: 9.1673e-05  - ETA: 3s - loss: 1.0 - ETA: 2s - loss: 9.2194e-05  - ETA: 1s - loss: 8.4869e-05 - accura - ETA: 1s - loss: 7.6306e-05 - accuracy - ETA: \n",
      "Epoch 00011: val_loss improved from 0.00017 to 0.00011, saving model to Mobilenet.h5\n",
      "188/188 [==============================] - 5s 28ms/step - loss: 7.4063e-05 - accuracy: 1.0000 - val_loss: 1.0620e-04 - val_accuracy: 1.0000\n",
      "Epoch 12/50\n",
      "186/188 [============================>.] - ETA: 0s - loss: 8.0159e-05 - accuracy: 1.0000 ETA: 2s - loss: 9.9135e-05 - accuracy:  - ETA: 2s - loss: 9.1757e-05 - accuracy: 1. - ETA: 2s - l - ETA: 1s - l - ETA: 0s - loss: 8.4480e-05 - accuracy\n",
      "Epoch 00012: val_loss improved from 0.00011 to 0.00004, saving model to Mobilenet.h5\n",
      "188/188 [==============================] - 5s 27ms/step - loss: 8.0762e-05 - accuracy: 1.0000 - val_loss: 4.2547e-05 - val_accuracy: 1.0000\n",
      "Epoch 13/50\n",
      "187/188 [============================>.] - ETA: 0s - loss: 6.7491e-05 - accuracy: 1.0000 ETA: 3s - loss: 2.7572e-04 - accuracy: 1.00 - ETA: 3s - loss: 2.444 - E - ETA: 1s - loss: 8.8419e-05 - ac - ETA: 1s - loss: 7.9611e-05 - accuracy:  - ETA: 1s - loss: 7.6519e-05 -  - ETA: 0s - loss: 7.494 - ETA: 0s - loss: 6.8580e-05 - accuracy: 1.00\n",
      "Epoch 00013: val_loss improved from 0.00004 to 0.00003, saving model to Mobilenet.h5\n",
      "188/188 [==============================] - 6s 34ms/step - loss: 6.7164e-05 - accuracy: 1.0000 - val_loss: 3.0441e-05 - val_accuracy: 1.0000\n",
      "Epoch 14/50\n",
      "188/188 [==============================] - ETA: 0s - loss: 2.3626e-05 - accuracy: 1.0000 ETA: 0s - loss: 2.3871e-05 - accuracy: 1.00\n",
      "Epoch 00014: val_loss improved from 0.00003 to 0.00002, saving model to Mobilenet.h5\n",
      "188/188 [==============================] - 5s 27ms/step - loss: 2.3626e-05 - accuracy: 1.0000 - val_loss: 1.8804e-05 - val_accuracy: 1.0000\n",
      "Epoch 15/50\n",
      "186/188 [============================>.] - ETA: 0s - loss: 2.7147e-05 - accuracy: 1.0000 ETA: 3s - loss: 1.4253e-05 - accuracy:  - ETA: 3s - loss: 1.8915e-05 - accuracy: 1. - ETA: 1s - loss: 2.7797e-05 -  - ETA: 1s - loss: 2.5 - ETA: 0s - loss: 2.8310e-05 - accura - ETA: 0s - loss: 2.6890e-05 - accuracy: 1.0000\n",
      "Epoch 00015: val_loss improved from 0.00002 to 0.00001, saving model to Mobilenet.h5\n",
      "188/188 [==============================] - 5s 27ms/step - loss: 2.6609e-05 - accuracy: 1.0000 - val_loss: 1.2704e-05 - val_accuracy: 1.0000\n",
      "Epoch 16/50\n",
      "187/188 [============================>.] - ETA: 0s - loss: 2.5998e-05 - accuracy: 1.0000\n",
      "Epoch 00016: val_loss improved from 0.00001 to 0.00001, saving model to Mobilenet.h5\n",
      "188/188 [==============================] - 6s 30ms/step - loss: 2.5860e-05 - accuracy: 1.0000 - val_loss: 8.9476e-06 - val_accuracy: 1.0000\n",
      "Epoch 17/50\n",
      "188/188 [==============================] - ETA: 0s - loss: 2.2493e-05 - accuracy: 1.0000\n",
      "Epoch 00017: val_loss improved from 0.00001 to 0.00001, saving model to Mobilenet.h5\n",
      "188/188 [==============================] - 5s 28ms/step - loss: 2.2493e-05 - accuracy: 1.0000 - val_loss: 7.1775e-06 - val_accuracy: 1.0000\n",
      "Epoch 18/50\n",
      "186/188 [============================>.] - ETA: 0s - loss: 1.4420e-05 - accuracy: 1.0000 ETA: 2s - loss: 1.3270e-05 - accuracy: 1.00 - ETA: 2s - loss: 1.2 - ETA: 1s - loss: 1.6107e-05 - accuracy - ETA: 1s - loss: 1.528 - ETA: 0s - loss: 1.4886e-05 - accuracy: \n",
      "Epoch 00018: val_loss improved from 0.00001 to 0.00001, saving model to Mobilenet.h5\n",
      "188/188 [==============================] - 5s 28ms/step - loss: 1.4282e-05 - accuracy: 1.0000 - val_loss: 6.7917e-06 - val_accuracy: 1.0000\n",
      "Epoch 19/50\n",
      "187/188 [============================>.] - ETA: 0s - loss: 2.8918e-05 - accuracy: 1.0000 ETA: 3s - loss: 1.4391e-05  - ETA - ETA: 2s - loss: - ETA: 1s - loss: 1.8218e-0 - ETA: 1s\n",
      "Epoch 00019: val_loss did not improve from 0.00001\n",
      "188/188 [==============================] - 5s 27ms/step - loss: 2.8766e-05 - accuracy: 1.0000 - val_loss: 1.5629e-05 - val_accuracy: 1.0000\n",
      "Epoch 20/50\n",
      "186/188 [============================>.] - ETA: 0s - loss: 1.3417e-05 - accuracy: 1.0000 ETA: 3s - loss: 9 - ETA: 1s - loss: - ETA: 0s - loss: 1.3401e-05 - accuracy: 1.00 - ETA: 0s - loss: 1.3307e-05 - accuracy: 1.00\n",
      "Epoch 00020: val_loss did not improve from 0.00001\n",
      "188/188 [==============================] - 5s 25ms/step - loss: 1.3318e-05 - accuracy: 1.0000 - val_loss: 8.1547e-06 - val_accuracy: 1.0000\n",
      "Epoch 21/50\n",
      "187/188 [============================>.] - ETA: 0s - loss: 1.1153e-05 - accuracy: 1.0000 ETA: 3s - loss: 8.1209e-06 -  - ETA: 3s - loss: 8.5840e-06 - accuracy:  - ETA: 3s - loss: 1.1221e-05 - accuracy - ETA: 3s - loss: 1.5365e-0 - ETA: 2s - loss: 1.0 - ETA: 1s - loss: 9.6174e-06 - accuracy - ETA: 1s - loss: 1 - ETA: 0s - loss: 1.0802e-05 - \n",
      "Epoch 00021: val_loss improved from 0.00001 to 0.00001, saving model to Mobilenet.h5\n",
      "188/188 [==============================] - 5s 27ms/step - loss: 1.1144e-05 - accuracy: 1.0000 - val_loss: 5.5105e-06 - val_accuracy: 1.0000\n",
      "Epoch 22/50\n",
      "188/188 [==============================] - ETA: 0s - loss: 1.0599e-05 - accuracy: 1.0000 ETA: 0s - loss: 1.1093e-05 - accuracy\n",
      "Epoch 00022: val_loss improved from 0.00001 to 0.00000, saving model to Mobilenet.h5\n",
      "188/188 [==============================] - 5s 27ms/step - loss: 1.0599e-05 - accuracy: 1.0000 - val_loss: 4.0142e-06 - val_accuracy: 1.0000\n",
      "Epoch 23/50\n",
      "187/188 [============================>.] - ETA: 0s - loss: 8.4169e-06 - accuracy: 1.0000 ETA: 3s - loss: 7.8407e - ETA: 2s - loss: 8.2657e-06 - ac - ETA: 2s - loss: 7.1248e-06 - ac -\n",
      "Epoch 00023: val_loss improved from 0.00000 to 0.00000, saving model to Mobilenet.h5\n",
      "188/188 [==============================] - 5s 27ms/step - loss: 8.3735e-06 - accuracy: 1.0000 - val_loss: 3.3387e-06 - val_accuracy: 1.0000\n",
      "Epoch 24/50\n",
      "188/188 [==============================] - ETA: 0s - loss: 5.4376e-06 - accuracy: 1.0000\n",
      "Epoch 00024: val_loss improved from 0.00000 to 0.00000, saving model to Mobilenet.h5\n",
      "188/188 [==============================] - 5s 27ms/step - loss: 5.4376e-06 - accuracy: 1.0000 - val_loss: 2.7921e-06 - val_accuracy: 1.0000\n",
      "Epoch 25/50\n",
      "187/188 [============================>.] - ETA: 0s - loss: 7.6498e-06 - accuracy: 1.0000 ETA: 1s - loss: 9.2158e-06 - accu - E\n",
      "Epoch 00025: val_loss improved from 0.00000 to 0.00000, saving model to Mobilenet.h5\n",
      "188/188 [==============================] - 5s 27ms/step - loss: 7.6099e-06 - accuracy: 1.0000 - val_loss: 2.3073e-06 - val_accuracy: 1.0000\n",
      "Epoch 26/50\n",
      "188/188 [==============================] - ETA: 0s - loss: 4.9428e-06 - accuracy: 1.0000 ETA: 3s - loss: 6.1167e-06 - accu - ETA: 3s - - ETA: 1s - loss: 5.9114e-06 - accuracy: 1. - ETA: 1s - - ETA: 0s - loss: 4.935\n",
      "Epoch 00026: val_loss improved from 0.00000 to 0.00000, saving model to Mobilenet.h5\n",
      "188/188 [==============================] - 5s 28ms/step - loss: 4.9428e-06 - accuracy: 1.0000 - val_loss: 2.0116e-06 - val_accuracy: 1.0000\n",
      "Epoch 27/50\n",
      "188/188 [==============================] - ETA: 0s - loss: 5.1970e-06 - accuracy: 1.0000 ETA: 2s - loss: 8.3390e-06 - accuracy: 1. - ETA: 2s - loss: 8 - ETA: 1s - loss: 6.7389e-06 - accuracy: \n",
      "Epoch 00027: val_loss improved from 0.00000 to 0.00000, saving model to Mobilenet.h5\n",
      "188/188 [==============================] - 5s 27ms/step - loss: 5.1970e-06 - accuracy: 1.0000 - val_loss: 1.8237e-06 - val_accuracy: 1.0000\n",
      "Epoch 28/50\n",
      "186/188 [============================>.] - ETA: 0s - loss: 4.3865e-06 - accuracy: 1.0000\n",
      "Epoch 00028: val_loss improved from 0.00000 to 0.00000, saving model to Mobilenet.h5\n",
      "188/188 [==============================] - 5s 27ms/step - loss: 4.3410e-06 - accuracy: 1.0000 - val_loss: 1.6320e-06 - val_accuracy: 1.0000\n",
      "Epoch 29/50\n",
      "186/188 [============================>.] - ETA: 0s - loss: 3.9760e-06 - accuracy: 1.0000 ETA: 2s - loss: 3.7425e-06  - E - ETA: 0s - loss: 3.7864e-06 - accu - ETA: 0s - loss: 3.9322e-06 - accuracy: 1.0000\n",
      "Epoch 00029: val_loss improved from 0.00000 to 0.00000, saving model to Mobilenet.h5\n",
      "188/188 [==============================] - 5s 27ms/step - loss: 3.8906e-06 - accuracy: 1.0000 - val_loss: 1.4614e-06 - val_accuracy: 1.0000\n",
      "Epoch 30/50\n",
      "187/188 [============================>.] - ETA: 0s - loss: 4.1790e-06 - accuracy: 1.0000 ETA: 3s - loss: 7.0770e-06 -  - ETA: 0s - loss: 4.4449e-06 - ac - ETA: 0s - loss: 4.3338e-06 - accuracy: \n",
      "Epoch 00030: val_loss improved from 0.00000 to 0.00000, saving model to Mobilenet.h5\n",
      "188/188 [==============================] - 5s 27ms/step - loss: 4.1571e-06 - accuracy: 1.0000 - val_loss: 1.2231e-06 - val_accuracy: 1.0000\n",
      "Epoch 31/50\n",
      "187/188 [============================>.] - ETA: 0s - loss: 5.8677e-06 - accuracy: 1.0000 ETA: 3s - loss: 5.0175e-06 -  - ETA: 3s - loss: - ETA: 2s - loss: 2.4557e-06 -  - ETA: 2s - loss: 2.1986e-06 -  - ETA: 1s - loss: 2.9429e-06 - accuracy: 1.00 - - ETA: 0s - loss: 5.9311e-06 - accuracy: 1.00\n",
      "Epoch 00031: val_loss improved from 0.00000 to 0.00000, saving model to Mobilenet.h5\n",
      "188/188 [==============================] - 5s 27ms/step - loss: 5.8376e-06 - accuracy: 1.0000 - val_loss: 1.2004e-06 - val_accuracy: 1.0000\n",
      "Epoch 32/50\n",
      "188/188 [==============================] - ETA: 0s - loss: 3.7023e-06 - accuracy: 1.0000 ETA: 2s - loss: 3.5456e-06 - accuracy: 1.00 - ETA: 2s - loss: 3.7119e-06 - accuracy: 1. - ETA: 2s - l - ETA: 1s - loss: 2.9 - ETA: 0s - loss: 3.3174e-06 - ac\n",
      "Epoch 00032: val_loss improved from 0.00000 to 0.00000, saving model to Mobilenet.h5\n",
      "188/188 [==============================] - 5s 27ms/step - loss: 3.7023e-06 - accuracy: 1.0000 - val_loss: 1.1818e-06 - val_accuracy: 1.0000\n",
      "Epoch 33/50\n",
      "186/188 [============================>.] - ETA: 0s - loss: 3.2523e-06 - accuracy: 1.0000 ETA: 3s - loss: 3.6776e-06 - accuracy - ETA: 3s - loss: 2.2238e-06 - accu - ETA: 3s - l - ETA: 2s - l\n",
      "Epoch 00033: val_loss improved from 0.00000 to 0.00000, saving model to Mobilenet.h5\n",
      "188/188 [==============================] - 5s 28ms/step - loss: 3.5044e-06 - accuracy: 1.0000 - val_loss: 1.1739e-06 - val_accuracy: 1.0000\n",
      "Epoch 34/50\n",
      "188/188 [==============================] - ETA: 0s - loss: 2.3761e-06 - accuracy: 1.0000 ETA: 2s - loss: 1.8095e-06 - accuracy: 1.00 - ETA: 2s - loss: 2.0151e-06 - accuracy: 1. - ETA: 2s - loss: 1.9238e-06 - accuracy: 1.00 - ETA: 2s - loss: 2.8 - ETA: 1s - loss: 2.5 - ETA: 0s - loss: 2.4\n",
      "Epoch 00034: val_loss did not improve from 0.00000\n",
      "188/188 [==============================] - 5s 26ms/step - loss: 2.3761e-06 - accuracy: 1.0000 - val_loss: 1.1880e-06 - val_accuracy: 1.0000\n",
      "Epoch 35/50\n",
      "188/188 [==============================] - ETA: 0s - loss: 7.0642e-06 - accuracy: 1.00 - ETA: 0s - loss: 6.9948e-06 - accuracy: 1.0000\n",
      "Epoch 00035: val_loss did not improve from 0.00000\n",
      "188/188 [==============================] - 5s 25ms/step - loss: 6.9948e-06 - accuracy: 1.0000 - val_loss: 1.2270e-06 - val_accuracy: 1.0000\n",
      "Epoch 36/50\n",
      "187/188 [============================>.] - ETA: 0s - loss: 2.6159e-06 - accuracy: 1.0000\n",
      "Epoch 00036: val_loss did not improve from 0.00000\n",
      "188/188 [==============================] - 5s 26ms/step - loss: 2.6111e-06 - accuracy: 1.0000 - val_loss: 1.2230e-06 - val_accuracy: 1.0000\n",
      "Epoch 37/50\n",
      "188/188 [==============================] - ETA: 0s - loss: 4.2360e-06 - accuracy: 1.0000 ETA: 3s - loss: 2 - ETA: 2s - loss: 3.3541e-06 - accuracy: 1. - ETA: 2s - loss: 3.9835e-06 - accuracy - ETA: 1s - loss: 3.8045e-06 - accuracy: 1. - ETA: 1s - loss: 3.9792e-06 - accura\n",
      "Epoch 00037: val_loss did not improve from 0.00000\n",
      "188/188 [==============================] - 5s 26ms/step - loss: 4.2360e-06 - accuracy: 1.0000 - val_loss: 1.2248e-06 - val_accuracy: 1.0000\n",
      "Epoch 38/50\n",
      "187/188 [============================>.] - ETA: 0s - loss: 2.9390e-06 - accuracy: 1.0000 ETA: 3s - loss: 1.6536e-06 - accura - ETA: 3s - loss: 2.8144e-06 - accuracy: 1. - ETA: 3s - loss: 2.4137e-06 - accuracy - ETA: 3s - loss: 2.3930e-06 - accura - ETA: 3s - loss: 2.538 - ETA: 2s - loss: 2 - ETA: 1s - loss: 2.1800e-06 - ac - ETA: 1s - loss: 2.1601e-06 - accu - ETA: 0s - loss: 2.7649e-0\n",
      "Epoch 00038: val_loss did not improve from 0.00000\n",
      "188/188 [==============================] - 5s 26ms/step - loss: 2.9240e-06 - accuracy: 1.0000 - val_loss: 1.2204e-06 - val_accuracy: 1.0000\n",
      "Epoch 39/50\n",
      "187/188 [============================>.] - ETA: 0s - loss: 2.9410e-06 - accuracy: 1.0000 ETA: 3s - loss: 2.2119e-0 - ETA: 3s - loss: 3.3151e-06 - accuracy: 1.00 - ETA: 3s - l - ETA: 2s - loss: 3.612 - ETA: 1s - loss: 3.056 - ETA: 0s - loss: 2.869\n",
      "Epoch 00039: val_loss did not improve from 0.00000\n",
      "188/188 [==============================] - 5s 25ms/step - loss: 2.9343e-06 - accuracy: 1.0000 - val_loss: 1.2019e-06 - val_accuracy: 1.0000\n"
     ]
    }
   ],
   "source": [
    "callbacks = tf.keras.callbacks.ModelCheckpoint('Mobilenet.h5', monitor='val_loss', verbose=1, save_best_only=True, mode = 'auto')\n",
    "\n",
    "batch_size = 4\n",
    "\n",
    "r = model.fit(X_train,y_train, validation_data=(X_test,y_test), \n",
    "                        batch_size=batch_size, epochs= 50, \n",
    "                        callbacks = [callbacks,lr_schedule,stopping])"
   ]
  },
  {
   "cell_type": "code",
   "execution_count": 14,
   "metadata": {},
   "outputs": [
    {
     "data": {
      "text/plain": [
       "<matplotlib.legend.Legend at 0x2656964f288>"
      ]
     },
     "execution_count": 14,
     "metadata": {},
     "output_type": "execute_result"
    },
    {
     "data": {
      "image/png": "[encoded data removed]",
      "text/plain": [
       "<Figure size 432x288 with 1 Axes>"
      ]
     },
     "metadata": {
      "needs_background": "light"
     },
     "output_type": "display_data"
    }
   ],
   "source": [
    "plt.plot(r.history['loss'],label='loss')\n",
    "plt.plot(r.history['val_loss'],label='val_loss')\n",
    "plt.legend()"
   ]
  },
  {
   "cell_type": "code",
   "execution_count": 15,
   "metadata": {},
   "outputs": [
    {
     "data": {
      "text/plain": [
       "<matplotlib.legend.Legend at 0x2635a7d3ac8>"
      ]
     },
     "execution_count": 15,
     "metadata": {},
     "output_type": "execute_result"
    },
    {
     "data": {
      "image/png": "[encoded data removed]",
      "text/plain": [
       "<Figure size 432x288 with 1 Axes>"
      ]
     },
     "metadata": {
      "needs_background": "light"
     },
     "output_type": "display_data"
    }
   ],
   "source": [
    "plt.plot(r.history['accuracy'],label='accuracy')\n",
    "plt.plot(r.history['val_accuracy'],label='val_accuracy')\n",
    "plt.legend()"
   ]
  },
  {
   "cell_type": "code",
   "execution_count": 16,
   "metadata": {},
   "outputs": [],
   "source": [
    "P= model.predict(X_test,batch_size=4)"
   ]
  },
  {
   "cell_type": "code",
   "execution_count": 17,
   "metadata": {},
   "outputs": [],
   "source": [
    "Pred = np.where(P<0.5,0,1)"
   ]
  },
  {
   "cell_type": "code",
   "execution_count": 18,
   "metadata": {},
   "outputs": [
    {
     "data": {
      "text/plain": [
       "([<matplotlib.axis.YTick at 0x2656f38ea48>,\n",
       "  <matplotlib.axis.YTick at 0x2656f050088>],\n",
       " [Text(0, 0, 'Blue'), Text(0, 1, 'White')])"
      ]
     },
     "execution_count": 18,
     "metadata": {},
     "output_type": "execute_result"
    },
    {
     "data": {
      "image/png": "[encoded data removed]",
      "text/plain": [
       "<Figure size 360x360 with 1 Axes>"
      ]
     },
     "metadata": {
      "needs_background": "light"
     },
     "output_type": "display_data"
    }
   ],
   "source": [
    "matrix = confusion_matrix (y_test, Pred)\n",
    "plot_confusion_matrix(matrix, figsize=(5,5))\n",
    "plt.xticks(range(2), ['Blue','White'], fontsize=12)\n",
    "plt.yticks(range(2), ['Blue','White'], fontsize=12)"
   ]
  },
  {
   "cell_type": "markdown",
   "metadata": {},
   "source": [
    "### Resize Tensor"
   ]
  },
  {
   "cell_type": "code",
   "execution_count": 19,
   "metadata": {},
   "outputs": [],
   "source": [
    "TF_LITE_MODEL_FILE_NAME = \"model.tflite\""
   ]
  },
  {
   "cell_type": "code",
   "execution_count": 20,
   "metadata": {},
   "outputs": [
    {
     "name": "stdout",
     "output_type": "stream",
     "text": [
      "WARNING:tensorflow:From C:\\Users\\asarkar.NATICK-NT\\.conda\\envs\\tf-gpu\\lib\\site-packages\\tensorflow\\python\\training\\tracking\\tracking.py:111: Model.state_updates (from tensorflow.python.keras.engine.training) is deprecated and will be removed in a future version.\n",
      "Instructions for updating:\n",
      "This property should not be used in TensorFlow 2.0, as updates are applied automatically.\n",
      "WARNING:tensorflow:From C:\\Users\\asarkar.NATICK-NT\\.conda\\envs\\tf-gpu\\lib\\site-packages\\tensorflow\\python\\training\\tracking\\tracking.py:111: Layer.updates (from tensorflow.python.keras.engine.base_layer) is deprecated and will be removed in a future version.\n",
      "Instructions for updating:\n",
      "This property should not be used in TensorFlow 2.0, as updates are applied automatically.\n",
      "INFO:tensorflow:Assets written to: C:\\Users\\ASARKA~1.NAT\\AppData\\Local\\Temp\\tmpahd89m3u\\assets\n"
     ]
    }
   ],
   "source": [
    "tf_lite_converter = tf.lite.TFLiteConverter.from_keras_model(model)\n",
    "tf_lite_converter.optimizations = [tf.lite.Optimize.DEFAULT]\n",
    "tflite_model = tf_lite_converter.convert()"
   ]
  },
  {
   "cell_type": "code",
   "execution_count": 21,
   "metadata": {},
   "outputs": [
    {
     "data": {
      "text/plain": [
       "3622448"
      ]
     },
     "execution_count": 21,
     "metadata": {},
     "output_type": "execute_result"
    }
   ],
   "source": [
    "tflite_model_name = TF_LITE_MODEL_FILE_NAME\n",
    "open(tflite_model_name, \"wb\").write(tflite_model)"
   ]
  },
  {
   "cell_type": "code",
   "execution_count": 22,
   "metadata": {},
   "outputs": [
    {
     "name": "stdout",
     "output_type": "stream",
     "text": [
      "Input Shape: [  1 224 224   3]\n",
      "Input Type: <class 'numpy.float32'>\n",
      "Output Shape: [1 1]\n",
      "Output Type: <class 'numpy.float32'>\n"
     ]
    }
   ],
   "source": [
    "interpreter = tf.lite.Interpreter(model_path = TF_LITE_MODEL_FILE_NAME)\n",
    "input_details = interpreter.get_input_details()\n",
    "output_details = interpreter.get_output_details()\n",
    "print(\"Input Shape:\", input_details[0]['shape'])\n",
    "print(\"Input Type:\", input_details[0]['dtype'])\n",
    "print(\"Output Shape:\", output_details[0]['shape'])\n",
    "print(\"Output Type:\", output_details[0]['dtype'])"
   ]
  },
  {
   "cell_type": "code",
   "execution_count": 23,
   "metadata": {},
   "outputs": [
    {
     "name": "stdout",
     "output_type": "stream",
     "text": [
      "Input Shape: [188 224 224   3]\n",
      "Input Type: <class 'numpy.float32'>\n",
      "Output Shape: [188   1]\n",
      "Output Type: <class 'numpy.float32'>\n"
     ]
    }
   ],
   "source": [
    "interpreter.resize_tensor_input(input_details[0]['index'], (188, 224, 224,3))\n",
    "interpreter.resize_tensor_input(output_details[0]['index'], (188, 1))\n",
    "interpreter.allocate_tensors()\n",
    "input_details = interpreter.get_input_details()\n",
    "output_details = interpreter.get_output_details()\n",
    "print(\"Input Shape:\", input_details[0]['shape'])\n",
    "print(\"Input Type:\", input_details[0]['dtype'])\n",
    "print(\"Output Shape:\", output_details[0]['shape'])\n",
    "print(\"Output Type:\", output_details[0]['dtype'])"
   ]
  },
  {
   "cell_type": "code",
   "execution_count": 24,
   "metadata": {},
   "outputs": [
    {
     "data": {
      "text/plain": [
       "dtype('float32')"
      ]
     },
     "execution_count": 24,
     "metadata": {},
     "output_type": "execute_result"
    }
   ],
   "source": [
    "X_test.dtype"
   ]
  },
  {
   "cell_type": "code",
   "execution_count": 25,
   "metadata": {},
   "outputs": [
    {
     "name": "stdout",
     "output_type": "stream",
     "text": [
      "Prediction results shape: (188, 1)\n"
     ]
    }
   ],
   "source": [
    "interpreter.set_tensor(input_details[0]['index'], X_test)\n",
    "interpreter.invoke()\n",
    "tflite_model_predictions = interpreter.get_tensor(output_details[0]['index'])\n",
    "print(\"Prediction results shape:\", tflite_model_predictions.shape)\n",
    "prediction_classes = np.where(tflite_model_predictions<0.5, 0,1)"
   ]
  },
  {
   "cell_type": "code",
   "execution_count": 26,
   "metadata": {},
   "outputs": [],
   "source": [
    "from sklearn.metrics import accuracy_score\n",
    "\n",
    "acc = accuracy_score(prediction_classes, y_test)"
   ]
  },
  {
   "cell_type": "code",
   "execution_count": 27,
   "metadata": {},
   "outputs": [
    {
     "name": "stdout",
     "output_type": "stream",
     "text": [
      "Test accuracy TFLITE model : 1.0\n"
     ]
    }
   ],
   "source": [
    "print('Test accuracy TFLITE model :', acc)"
   ]
  },
  {
   "cell_type": "code",
   "execution_count": null,
   "metadata": {},
   "outputs": [],
   "source": []
  }
 ],
 "metadata": {
  "kernelspec": {
   "display_name": "Python 3",
   "language": "python",
   "name": "python3"
  },
  "language_info": {
   "codemirror_mode": {
    "name": "ipython",
    "version": 3
   },
   "file_extension": ".py",
   "mimetype": "text/x-python",
   "name": "python",
   "nbconvert_exporter": "python",
   "pygments_lexer": "ipython3",
   "version": "3.7.9"
  }
 },
 "nbformat": 4,
 "nbformat_minor": 4
}
